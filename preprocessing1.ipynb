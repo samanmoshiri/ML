{
  "nbformat": 4,
  "nbformat_minor": 0,
  "metadata": {
    "colab": {
      "provenance": [],
      "toc_visible": true,
      "authorship_tag": "ABX9TyPYsZZ7Hn/3gfSi2PyFLI9Z"
    },
    "kernelspec": {
      "name": "python3",
      "display_name": "Python 3"
    },
    "language_info": {
      "name": "python"
    }
  },
  "cells": [
    {
      "cell_type": "markdown",
      "source": [
        "#Header"
      ],
      "metadata": {
        "id": "HZESqeXrWdSs"
      }
    },
    {
      "cell_type": "code",
      "source": [],
      "metadata": {
        "id": "OgnlcpUxWY3I"
      },
      "execution_count": null,
      "outputs": []
    }
  ]
}